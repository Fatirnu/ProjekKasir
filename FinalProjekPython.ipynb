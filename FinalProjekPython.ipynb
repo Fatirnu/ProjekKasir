{
  "nbformat": 4,
  "nbformat_minor": 0,
  "metadata": {
    "colab": {
      "provenance": []
    },
    "kernelspec": {
      "name": "python3",
      "display_name": "Python 3"
    },
    "language_info": {
      "name": "python"
    }
  },
  "cells": [
    {
      "cell_type": "code",
      "source": [
        "from tabulate import tabulate"
      ],
      "metadata": {
        "id": "y8RmZgBnFUfG"
      },
      "execution_count": 7,
      "outputs": []
    },
    {
      "cell_type": "code",
      "execution_count": 20,
      "metadata": {
        "id": "D1nRu-6bFEyP"
      },
      "outputs": [],
      "source": [
        "class Transaction:\n",
        "\n",
        "  all_item = {\"Nama item:\":[],\n",
        "              \"Harga per item:\":[],\n",
        "              \"Jumlah item:\":[],\n",
        "              \"Total harga item:\":[]}\n",
        "\n",
        "\n",
        "  def __init__(self, id_transaksi):\n",
        "    \"\"\"\n",
        "    Parameter:\n",
        "      id_transaksi (str) = id dari transaksi yang sedang berlangsung\n",
        "    \"\"\"\n",
        "    self.id_transaksi = id_transaksi\n",
        "\n",
        "  def add_item(self):\n",
        "    \"\"\"\n",
        "    Parameter:\n",
        "      id_transaksi (str) = id dari transaksi yang sedang berlangsung\n",
        "\n",
        "    Input:\n",
        "      nama_item (str) = variabel untuk menampung input nama dari barang yang ditambahkan\n",
        "      jumlah item (int) = variabel untuk menampung input jumlah dari barang yang ditambahkan\n",
        "      harga_item (int) = variabel untuk menampung input harga dari barang yang ditambahkan\n",
        "    \"\"\"\n",
        "    try:\n",
        "        #input data item\n",
        "        nama_item = str(input(\"Masukkan nama barang:\"))\n",
        "        jumlah_item = int(input(\"Masukkan jumlah barang:\"))\n",
        "        harga_item = int(input(\"Masukkan harga barang:\"))\n",
        "        total_harga = jumlah_item * harga_item\n",
        "\n",
        "        #Memasukkan data ke dalam dictionary\n",
        "        self.all_item[\"Nama item:\"].append(nama_item)\n",
        "        self.all_item[\"Harga per item:\"].append(harga_item)\n",
        "        self.all_item[\"Jumlah item:\"].append(jumlah_item)\n",
        "        self.all_item[\"Total harga item:\"].append(total_harga)\n",
        "    except ValueError:\n",
        "      print(\"Pastikan Type Data yang dimasukkan sudah benar string ataupun integer\")\n",
        "\n",
        "  def update_item_name(self):\n",
        "    \"\"\"\n",
        "    parameter:\n",
        "      None\n",
        "\n",
        "    input:\n",
        "      nama_item (str) = sebagai variabel untuk menampung nama barang yang nantinya akan di cek di dictionary\n",
        "      update_nama_item (str) = sebagai variabel untuk menampung nama barang yang baru\n",
        "    \"\"\"\n",
        "    try:\n",
        "        #menampilkan tabel barang\n",
        "        header = [\"Nama Barang\", \"Harga per item\" , \"Jumlah item\",\"Total harga\"]\n",
        "        print(tabulate(self.all_item, headers = header, tablefmt = \"github\"))\n",
        "\n",
        "        #mengupdate nama_item\n",
        "        nama_item = input(\"Masukkan nama barang yang ingin diupdate: \") #input nama item yang akan diupdate\n",
        "        if nama_item in self.all_item[\"Nama item:\"]:  #menagmbil key dari dictionary\n",
        "            index = self.all_item[\"Nama item:\"].index(nama_item) #mengambil data dari key \"Nama item\", index item menyesuaikan dari nama item\n",
        "            update_nama_item = input(\"Masukkan nama barang yang baru: \") # menginputkan data baru\n",
        "            self.all_item[\"Nama item:\"][index] = update_nama_item #memasukkan data baru ke dictionary\n",
        "            print(\"Nama barang berhasil diupdate.\")\n",
        "        else:\n",
        "            print(\"Nama barang tidak ditemukan.\")\n",
        "    except ValueError:\n",
        "      print(\"Pastikan Type Data yang dimasukkan sudah benar string ataupun integer\")\n",
        "\n",
        "  def update_item_qty(self):\n",
        "    \"\"\"\n",
        "    parameter:\n",
        "      None\n",
        "\n",
        "    input:\n",
        "      nama_item (str) = sebagai variabel untuk menampung nama barang yang nantinya akan di cek di dictionary\n",
        "      update_jumlah_item (int) = sebagai variabel untuk menampung jumlah barang yang baru\n",
        "    \"\"\"\n",
        "    header = [\"Nama Barang\", \"Harga per item\" , \"Jumlah item\",\"Total harga\"]\n",
        "    print(tabulate(self.all_item, headers = header, tablefmt = \"github\"))\n",
        "    try:\n",
        "      nama_item = input(\"Masukkan nama dari barang yang ingin diubah: \")\n",
        "      if nama_item in self.all_item[\"Nama item:\"]:\n",
        "          index = self.all_item[\"Nama item:\"].index(nama_item) #mengambil data dari key \"Nama item\", index item menyesuaikan dari nama item\n",
        "          update_jumlah_item = int(input(\"Masukkan jumlah baru: \")) #masukkan data item baru\n",
        "          self.all_item[\"Jumlah item:\"][index] = update_jumlah_item #memasukkan data baru ke dictionary\n",
        "          #otomatis mengubah total harga\n",
        "          self.all_item[\"Total harga item:\"][index] = update_jumlah_item * self.all_item[\"Harga per item:\"][index]\n",
        "          print(\"Jumlah barang berhasil diupdate.\")\n",
        "      else:\n",
        "          print(\"Nama barang tidak ditemukan.\")\n",
        "    except ValueError:\n",
        "      print(\"Pastikan Type Data yang dimasukkan sudah benar string ataupun integer\")\n",
        "\n",
        "  def update_item_price(self):\n",
        "    \"\"\"\n",
        "    parameter:\n",
        "      None\n",
        "\n",
        "    input:\n",
        "      nama_item (str) = sebagai variabel untuk menampung nama barang yang nantinya akan di cek di dictionary\n",
        "      update_item_price (int) = sebagai variabel untuk menampung harga barang yang baru\n",
        "    \"\"\"\n",
        "    #Menampilkan table data barang\n",
        "    header = [\"Nama Barang\", \"Harga per item\" , \"Jumlah item\",\"Total harga\"]\n",
        "    print(tabulate(self.all_item, headers=header, tablefmt=\"github\"))\n",
        "    #Mengupdate barang\n",
        "    try:\n",
        "      nama_item = input(\"Masukkan nama dari barang yang ingin diubah: \") #masukkan nama barang yang akan di update\n",
        "      if nama_item in self.all_item[\"Nama item:\"]:  #untuk mengambil key dalam dictionary\n",
        "          index = self.all_item[\"Nama item:\"].index(nama_item) #mengambil data dari key \"Nama item\", index item menyesuaikan dari nama item\n",
        "          update_harga_item = int(input(\"Masukkan harga baru: \"))   #masukkan haraga yang akan diupdate\n",
        "          self.all_item[\"Harga per item:\"][index] = update_harga_item #memasukkan data baru ke dictionary\n",
        "\n",
        "          self.all_item[\"Total harga item:\"][index] = update_harga_item * self.all_item[\"Jumlah item:\"][index] #otomatis menghitung total harga\n",
        "          print(\"Harga barang berhasil diupdate.\")\n",
        "      else:\n",
        "          print(\"Nama barang tidak ditemukan.\")\n",
        "    except ValueError:\n",
        "            print(\"Pastikan Type Data yang dimasukkan sudah benar string ataupun integer\")\n",
        "\n",
        "  def delete_item(self):\n",
        "    \"\"\"\n",
        "    parameter:\n",
        "      None\n",
        "\n",
        "    input:\n",
        "      nama_item (str) = sebagai variabel untuk menampung nama barang yang nantinya akan di cek di dictionary\n",
        "    \"\"\"\n",
        "    #menampilkan table\n",
        "    header = [\"Nama Barang\", \"Harga per item\" , \"Jumlah item\",\"Total harga\"]\n",
        "    print(tabulate(self.all_item, headers = header, tablefmt=\"github\"))\n",
        "    #proses delete\n",
        "    try:\n",
        "      nama_item = input(\"Masukkan nama barang yang ingin dihapus: \") #masukkan nama barang yang akan di hapus\n",
        "      #akan menghapus semua data dari nama barang\n",
        "      if nama_item in self.all_item[\"Nama item:\"]:\n",
        "        index = self.all_item[\"Nama item:\"].index(nama_item)\n",
        "        del self.all_item[\"Nama item:\"][index]\n",
        "        del self.all_item[\"Harga per item:\"][index]\n",
        "        del self.all_item[\"Jumlah item:\"][index]\n",
        "        del self.all_item[\"Total harga item:\"][index]\n",
        "\n",
        "        print(\"Barang berhasil dihapus.\")\n",
        "      else:\n",
        "        print(\"Nama barang tidak ditemukan\")\n",
        "    except ValueError:\n",
        "            print(\"Pastikan Type Data yang dimasukkan sudah benar string ataupun integer\")\n",
        "\n",
        "  def reset_item(self):\n",
        "    \"\"\"\n",
        "    parameter:\n",
        "      None\n",
        "\n",
        "    input:\n",
        "      choice str.lower : dengan ini inputan string akan dipaksa menjadi huruf kecil\n",
        "\n",
        "    keterangan:\n",
        "    mereset semua value dari data pada dictionary\n",
        "    \"\"\"\n",
        "    try:\n",
        "      while True:\n",
        "        choice = str(input(\"Apakah kamu yakin? y/n: \")).lower()\n",
        "        if choice == 'y':\n",
        "          #menghapus semua value yang ada pada data dictionary\n",
        "          for value in self.all_item.values():\n",
        "            del value[:]\n",
        "          # self.all_item.clear()\n",
        "          print(\"Transaksi berhasil dihapus\")\n",
        "          main_menu()\n",
        "        elif choice == \"n\":\n",
        "          print(\"Kembali ke menu utama\")\n",
        "          main_menu()\n",
        "        else:\n",
        "          print(\"Input salah. Masukkan antara y / n\")\n",
        "    except ValueError:\n",
        "            print(\"Pastikan Type Data yang dimasukkan sudah benar string ataupun integer\")\n",
        "\n",
        "  def check_order(self):\n",
        "    \"\"\"\n",
        "    parameter:\n",
        "      None\n",
        "\n",
        "    input:\n",
        "      None\n",
        "    keterangan:\n",
        "    Menampilkan data dictionary dalam bentuk table menggubakan tabulate\n",
        "    \"\"\"\n",
        "    try:\n",
        "      header = [\"Nama Barang\", \"Harga per item\" , \"Jumlah item\",\"Total harga\"]\n",
        "      print(tabulate(self.all_item, headers = header, tablefmt = \"github\"))\n",
        "    except:\n",
        "      print(\"terjadi error\")\n",
        "\n",
        "\n",
        "  def total_harga(self):\n",
        "    \"\"\"\n",
        "    parameter:\n",
        "      None\n",
        "\n",
        "    input:\n",
        "      None\n",
        "    keterangan:\n",
        "    - Menampilkan data dictionary dalam bentuk table menggubakan tabulate\n",
        "    - menghitung diskon dari jumlah total harga\n",
        "    \"\"\"\n",
        "    #menampilkan table\n",
        "    header = [\"Nama Barang\", \"Harga per item\" , \"Jumlah item\",\"Total harga\"]\n",
        "    print(tabulate(self.all_item, headers = header, tablefmt = \"github\"))\n",
        "    #proses kondisi nendapatkan diskon\n",
        "    try:\n",
        "      #menjumlahkan total harga\n",
        "      total_price = sum(self.all_item[\"Total harga item:\"])\n",
        "      print(f\"Total harga seluruh transaksi: {total_price}\")\n",
        "      #kondisi diskon\n",
        "      if total_price > 500000:\n",
        "        print(\"Anda mendapatkan diskon 10%\")\n",
        "        price = total_price * 0.10\n",
        "        final_price = total_price - price\n",
        "        return f'harga yang anda dapatkan yaitu menjadi {final_price}'\n",
        "      elif total_price > 300000:\n",
        "        print(\"Anda mendapatkan diskon 8%\")\n",
        "        price = total_price * 0.08\n",
        "        final_price = total_price - price\n",
        "        return f'harga yang anda dapatkan yaitu menjadi {final_price}'\n",
        "      elif total_price > 200000:\n",
        "        print(\"Anda mendapatkan diskon 5%\")\n",
        "        price = total_price * 0.05\n",
        "        final_price = total_price - price\n",
        "        return f'harga yang anda dapatkan yaitu menjadi {final_price}'\n",
        "      else:\n",
        "        print(\"Anda tidak memiliki diskon\")\n",
        "    except ValueError:\n",
        "            print(\"Pastikan Type Data yang dimasukkan sudah benar string ataupun integer\")\n",
        "\n",
        "def main_menu():\n",
        "  \"\"\"\n",
        "    parameter:\n",
        "      None\n",
        "\n",
        "    input:\n",
        "      choice str.lower : dengan ini inputan string akan dipaksa menjadi huruf kecil\n",
        "\n",
        "    keterangan:\n",
        "    Menampilkan menu untuk membantu memilih fungsi yang akan dijalankan\n",
        "    \"\"\"\n",
        "  try:\n",
        "    while True:\n",
        "      trnsct_123 = Transaction(id_transaksi = id_transaksi)\n",
        "\n",
        "      print(\"=\"*60)\n",
        "      print(\"Selamat datang di menu kasir\")\n",
        "      print(\"Masukkan angka untuk masuk ke menu tertentu\")\n",
        "      print(\"=\"*60)\n",
        "      print(\"1. Add item\")\n",
        "      print(\"2. Update item name\")\n",
        "      print(\"3. Update item quantity\")\n",
        "      print(\"4. Update item Price\")\n",
        "      print(\"5. Delete item\")\n",
        "      print(\"6. Reset transaction\")\n",
        "      print(\"7. Check order\")\n",
        "      print(\"8. Payment\")\n",
        "      print(\"9. Exit\")\n",
        "\n",
        "      choice = str(input(\"Enter your choice: \"))\n",
        "      if choice == \"1\":\n",
        "        trnsct_123.add_item()\n",
        "        #looping jika pengguna ingin memasukkan barang lagi. Jika tidak kembali ke main menu\n",
        "        while True:\n",
        "          choice = input(\"Tambahkan barang lagi? y / n: \").lower()\n",
        "          try:\n",
        "            if choice == \"y\":\n",
        "              trnsct_123.add_item()\n",
        "            elif choice == \"n\":\n",
        "              break\n",
        "              main_menu()\n",
        "          except:\n",
        "            print(\"salah input. Masukkan antara y / n!\")\n",
        "      elif choice == \"2\":\n",
        "        trnsct_123.update_item_name()\n",
        "        #looping jika pengguna ingin memasukkan barang lagi. Jika tidak kembali ke main menu\n",
        "        while True:\n",
        "          choice = input(\"ganti nama barang lagi? y / n: \").lower()\n",
        "          try:\n",
        "            if choice == \"y\":\n",
        "              trnsct_123.update_item_name()\n",
        "            elif choice == \"n\":\n",
        "              break\n",
        "              main_menu()\n",
        "          except:\n",
        "            print(\"salah input. Masukkan antara y / n!\")\n",
        "      elif choice == \"3\":\n",
        "        trnsct_123.update_item_qty()\n",
        "        #looping jika pengguna ingin memasukkan barang lagi. Jika tidak kembali ke main menu\n",
        "        while True:\n",
        "          choice = input(\"Update jumlah item? y/n: \").lower()\n",
        "          if choice == \"y\":\n",
        "            trnsct_123.update_item_name()\n",
        "          elif choice == \"n\":\n",
        "            print(\"menu update jumlah item selesai\")\n",
        "            break\n",
        "            main_menu()\n",
        "          else:\n",
        "            print(\"Input salah. Masukkan y / n\")\n",
        "      elif choice == \"4\":\n",
        "        trnsct_123.update_item_price()\n",
        "        #looping jika pengguna ingin memasukkan barang lagi. Jika tidak kembali ke main menu\n",
        "        while True:\n",
        "          choice = input(\"Update harga item? y/n: \").lower()\n",
        "          if choice == \"y\":\n",
        "            trnsct_123.update_item_name()\n",
        "          elif choice == \"n\":\n",
        "            print(\"\")\n",
        "            print(\"menu update harga item selesai\")\n",
        "            break\n",
        "            main_menu()\n",
        "          else:\n",
        "            print(\"Input salah. Masukkan y / n\")\n",
        "      elif choice == \"5\":\n",
        "        trnsct_123.delete_item()\n",
        "        #looping jika pengguna ingin memasukkan barang lagi. Jika tidak kembali ke main menu\n",
        "        while True:\n",
        "          choice = input(\"hapus item? y/n: \").lower()\n",
        "          if choice == \"y\":\n",
        "            trnsct_123.update_item_name()\n",
        "          elif choice == \"n\":\n",
        "            print(\"menu hapus item selesai\")\n",
        "            break\n",
        "            main_menu()\n",
        "          else:\n",
        "            print(\"Input salah. Masukkan y / n\")\n",
        "      elif choice == \"6\":\n",
        "        trnsct_123.reset_item()\n",
        "      elif choice == \"7\":\n",
        "        trnsct_123.check_order()\n",
        "      elif choice == \"8\":\n",
        "        trnsct_123.total_harga()\n",
        "      elif choice == \"9\":\n",
        "        print(\"transaksi telah selesai. keluar dari menu\")\n",
        "        break\n",
        "  except ValueError:\n",
        "      print(\"pastikan menginputkan dengan benar\")"
      ]
    },
    {
      "cell_type": "code",
      "source": [
        "id_transaksi = str(input(\"Masukkan id transaksi\"))\n",
        "main_menu()"
      ],
      "metadata": {
        "colab": {
          "base_uri": "https://localhost:8080/"
        },
        "id": "P0HmCOfEU7vD",
        "outputId": "d1420461-91e4-401a-fc8a-f37fc27edf5f"
      },
      "execution_count": 21,
      "outputs": [
        {
          "output_type": "stream",
          "name": "stdout",
          "text": [
            "Masukkan id transaksi1\n",
            "============================================================\n",
            "Selamat datang di menu kasir\n",
            "Masukkan angka untuk masuk ke menu tertentu\n",
            "============================================================\n",
            "1. Add item\n",
            "2. Update item name\n",
            "3. Update item quantity\n",
            "4. Update item Price\n",
            "5. Delete item\n",
            "6. Reset transaction\n",
            "7. Check order\n",
            "8. Payment\n",
            "9. Exit\n",
            "Enter your choice: 1\n",
            "Masukkan nama barang:Apple\n",
            "Masukkan jumlah barang:30\n",
            "Masukkan harga barang:10000\n",
            "Tambahkan barang lagi? y / n: a\n",
            "Tambahkan barang lagi? y / n: a\n",
            "Tambahkan barang lagi? y / n: a\n",
            "Tambahkan barang lagi? y / n: y\n",
            "Masukkan nama barang:Jeruk\n",
            "Masukkan jumlah barang:8\n",
            "Masukkan harga barang:4000\n",
            "Tambahkan barang lagi? y / n: n\n",
            "============================================================\n",
            "Selamat datang di menu kasir\n",
            "Masukkan angka untuk masuk ke menu tertentu\n",
            "============================================================\n",
            "1. Add item\n",
            "2. Update item name\n",
            "3. Update item quantity\n",
            "4. Update item Price\n",
            "5. Delete item\n",
            "6. Reset transaction\n",
            "7. Check order\n",
            "8. Payment\n",
            "9. Exit\n",
            "Enter your choice: 7\n",
            "| Nama Barang   |   Harga per item |   Jumlah item |   Total harga |\n",
            "|---------------|------------------|---------------|---------------|\n",
            "| Apple         |            10000 |            30 |        300000 |\n",
            "| Jeruk         |             4000 |             8 |         32000 |\n",
            "============================================================\n",
            "Selamat datang di menu kasir\n",
            "Masukkan angka untuk masuk ke menu tertentu\n",
            "============================================================\n",
            "1. Add item\n",
            "2. Update item name\n",
            "3. Update item quantity\n",
            "4. Update item Price\n",
            "5. Delete item\n",
            "6. Reset transaction\n",
            "7. Check order\n",
            "8. Payment\n",
            "9. Exit\n",
            "Enter your choice: 9\n",
            "transaksi telah selesai. keluar dari menu\n"
          ]
        }
      ]
    },
    {
      "cell_type": "code",
      "source": [
        "# Create an instance of the Transaction class\n",
        "trnsct_123 = Transaction(id_transaksi = 123)\n",
        "\n",
        "\n",
        "# Call the add_item method using the instance\n",
        "trnsct_123.add_item()\n",
        "\n",
        "print(trnsct_123.all_item)"
      ],
      "metadata": {
        "colab": {
          "base_uri": "https://localhost:8080/"
        },
        "id": "2sk_p65aaDBU",
        "outputId": "d865f4f3-25df-433d-dbc3-e2bdd97b0652"
      },
      "execution_count": null,
      "outputs": [
        {
          "output_type": "stream",
          "name": "stdout",
          "text": [
            "Masukkan nama barang:a\n",
            "Masukkan jumlah barang:4\n",
            "Masukkan harga barang:100000\n",
            "Tambahkan barang lagi? y/n: y\n",
            "Masukkan nama barang:b\n",
            "Masukkan jumlah barang:2\n",
            "Masukkan harga barang:30000\n",
            "Tambahkan barang lagi? y/n: \n",
            "Input salah. Masukkan y / n\n",
            "Tambahkan barang lagi? y/n: n\n",
            "selesai\n",
            "Tambahkan barang lagi? y/n: n\n",
            "selesai\n",
            "{'Nama item:': ['a', 'b'], 'Harga per item:': [100000, 30000], 'Jumlah item:': [4, 2], 'Total harga item:': [400000, 60000]}\n"
          ]
        }
      ]
    },
    {
      "cell_type": "code",
      "source": [
        "# trnsct_123 = update_transaction(id_transaksi = \"123\")"
      ],
      "metadata": {
        "id": "arJbMzvCoyVY"
      },
      "execution_count": null,
      "outputs": []
    },
    {
      "cell_type": "code",
      "source": [
        "trnsct_123.check_order()"
      ],
      "metadata": {
        "colab": {
          "base_uri": "https://localhost:8080/"
        },
        "id": "TQEn8GmXOYrp",
        "outputId": "3328c025-2b06-4657-9cd1-cf236ea6dbd1"
      },
      "execution_count": null,
      "outputs": [
        {
          "output_type": "stream",
          "name": "stdout",
          "text": [
            "Nama Barang      Harga per item    Jumlah item    Total harga\n",
            "-------------  ----------------  -------------  -------------\n",
            "a                        100000              4         400000\n",
            "b                         30000              2          60000\n"
          ]
        }
      ]
    },
    {
      "cell_type": "code",
      "source": [
        "trnsct_123.total_harga()"
      ],
      "metadata": {
        "colab": {
          "base_uri": "https://localhost:8080/",
          "height": 140
        },
        "id": "sL2ckhzMcnbK",
        "outputId": "5bc9159d-a223-4faa-b494-c516d8e9c2c7"
      },
      "execution_count": null,
      "outputs": [
        {
          "output_type": "stream",
          "name": "stdout",
          "text": [
            "Nama Barang      Harga per item    Jumlah item    Total harga\n",
            "-------------  ----------------  -------------  -------------\n",
            "a                        100000              4         400000\n",
            "b                         30000              2          60000\n",
            "Total harga seluruh transaksi: 460000\n",
            "Anda mendapatkan diskon 8%\n"
          ]
        },
        {
          "output_type": "execute_result",
          "data": {
            "text/plain": [
              "'harga yang anda dapatkan yaitu menjadi 423200.0'"
            ],
            "application/vnd.google.colaboratory.intrinsic+json": {
              "type": "string"
            }
          },
          "metadata": {},
          "execution_count": 23
        }
      ]
    },
    {
      "cell_type": "code",
      "source": [
        "trnsct_123.delete_item()\n",
        "print(trnsct_123.all_item)"
      ],
      "metadata": {
        "colab": {
          "base_uri": "https://localhost:8080/"
        },
        "id": "3lGJPOUoL0J3",
        "outputId": "d5620114-a059-4add-b33d-131637eb135a"
      },
      "execution_count": null,
      "outputs": [
        {
          "output_type": "stream",
          "name": "stdout",
          "text": [
            "Nama Barang      Harga per item    Jumlah item    Total harga\n",
            "-------------  ----------------  -------------  -------------\n",
            "a                          3000             12          36000\n",
            "Masukkan nama barang yang ingin dihapus: b\n",
            "{'Nama item:': ['a'], 'Harga per item:': [3000], 'Jumlah item:': [12], 'Total harga item:': [36000]}\n"
          ]
        }
      ]
    },
    {
      "cell_type": "code",
      "source": [
        "trnsct_123.update_item_qty()\n",
        "print(trnsct_123.all_item)"
      ],
      "metadata": {
        "id": "H9WiVYTXHUDe"
      },
      "execution_count": null,
      "outputs": []
    },
    {
      "cell_type": "code",
      "source": [
        "trnsct_123.update_item_name()\n",
        "print(trnsct_123.all_item)"
      ],
      "metadata": {
        "colab": {
          "base_uri": "https://localhost:8080/"
        },
        "id": "69FLbXtarjuy",
        "outputId": "5fc88fd6-9f6b-4960-da14-4e464971cd8c"
      },
      "execution_count": null,
      "outputs": [
        {
          "output_type": "stream",
          "name": "stdout",
          "text": [
            "Nama Barang      Harga per item    Jumlah item    Total harga\n",
            "-------------  ----------------  -------------  -------------\n",
            "a                          3000             12          36000\n",
            "Masukkan nama barang yang ingin diupdate: a\n",
            "Masukkan nama barang yang baru: buku\n",
            "Nama barang berhasil diupdate.\n",
            "{'Nama item:': ['buku'], 'Harga per item:': [3000], 'Jumlah item:': [12], 'Total harga item:': [36000]}\n"
          ]
        }
      ]
    },
    {
      "cell_type": "code",
      "source": [
        "trnsct_123.update_item_price()\n",
        "print(trnsct_123.all_item)"
      ],
      "metadata": {
        "colab": {
          "base_uri": "https://localhost:8080/"
        },
        "id": "1OKOPYJmANjg",
        "outputId": "8447a421-c073-43ba-ef5e-4d6b60c3bc70"
      },
      "execution_count": null,
      "outputs": [
        {
          "output_type": "stream",
          "name": "stdout",
          "text": [
            "Nama Barang      Harga per item    Jumlah item    Total harga\n",
            "-------------  ----------------  -------------  -------------\n",
            "buku                       3000             12          36000\n",
            "Masukkan nama dari barang yang ingin diubah: buku\n",
            "Masukkan harga baru: 6000\n",
            "Harga barang berhasil diupdate.\n",
            "{'Nama item:': ['buku'], 'Harga per item:': [6000], 'Jumlah item:': [12], 'Total harga item:': [72000]}\n"
          ]
        }
      ]
    },
    {
      "cell_type": "code",
      "source": [
        "trnsct_123.update_item_qty()\n"
      ],
      "metadata": {
        "colab": {
          "base_uri": "https://localhost:8080/"
        },
        "id": "BR4RSNmNE7GQ",
        "outputId": "cf5026fb-517d-4a3d-bb15-578d5d64df55"
      },
      "execution_count": null,
      "outputs": [
        {
          "output_type": "stream",
          "name": "stdout",
          "text": [
            "Nama Barang      Harga per item    Jumlah item    Total harga\n",
            "-------------  ----------------  -------------  -------------\n",
            "buku                       6000             12          72000\n",
            "Masukkan nama dari barang yang ingin diubah: buku\n",
            "Masukkan jumlah baru: 5\n",
            "Jumlah barang berhasil diupdate.\n"
          ]
        }
      ]
    },
    {
      "cell_type": "code",
      "source": [
        "trnsct_123.reset_item()"
      ],
      "metadata": {
        "colab": {
          "base_uri": "https://localhost:8080/",
          "height": 280
        },
        "id": "IzBI0b_icGrs",
        "outputId": "ec3c745f-b766-4492-9fff-3dee112014b0"
      },
      "execution_count": null,
      "outputs": [
        {
          "name": "stdout",
          "output_type": "stream",
          "text": [
            "Apakah kamu yakin? y/n: y\n"
          ]
        },
        {
          "output_type": "error",
          "ename": "AttributeError",
          "evalue": "'str' object has no attribute 'lowercase'",
          "traceback": [
            "\u001b[0;31m---------------------------------------------------------------------------\u001b[0m",
            "\u001b[0;31mAttributeError\u001b[0m                            Traceback (most recent call last)",
            "\u001b[0;32m<ipython-input-32-2ac662b70a76>\u001b[0m in \u001b[0;36m<cell line: 1>\u001b[0;34m()\u001b[0m\n\u001b[0;32m----> 1\u001b[0;31m \u001b[0mtrnsct_123\u001b[0m\u001b[0;34m.\u001b[0m\u001b[0mreset_item\u001b[0m\u001b[0;34m(\u001b[0m\u001b[0;34m)\u001b[0m\u001b[0;34m\u001b[0m\u001b[0;34m\u001b[0m\u001b[0m\n\u001b[0m",
            "\u001b[0;32m<ipython-input-23-98c09c6eafe5>\u001b[0m in \u001b[0;36mreset_item\u001b[0;34m(self)\u001b[0m\n\u001b[1;32m     93\u001b[0m   \u001b[0;32mdef\u001b[0m \u001b[0mreset_item\u001b[0m\u001b[0;34m(\u001b[0m\u001b[0mself\u001b[0m\u001b[0;34m)\u001b[0m\u001b[0;34m:\u001b[0m\u001b[0;34m\u001b[0m\u001b[0;34m\u001b[0m\u001b[0m\n\u001b[1;32m     94\u001b[0m     \u001b[0;32mwhile\u001b[0m \u001b[0;32mTrue\u001b[0m\u001b[0;34m:\u001b[0m\u001b[0;34m\u001b[0m\u001b[0;34m\u001b[0m\u001b[0m\n\u001b[0;32m---> 95\u001b[0;31m       \u001b[0mchoice\u001b[0m \u001b[0;34m=\u001b[0m \u001b[0mstr\u001b[0m\u001b[0;34m(\u001b[0m\u001b[0minput\u001b[0m\u001b[0;34m(\u001b[0m\u001b[0;34m\"Apakah kamu yakin? y/n: \"\u001b[0m\u001b[0;34m)\u001b[0m\u001b[0;34m)\u001b[0m\u001b[0;34m.\u001b[0m\u001b[0mlowercase\u001b[0m\u001b[0;34m(\u001b[0m\u001b[0;34m)\u001b[0m\u001b[0;34m\u001b[0m\u001b[0;34m\u001b[0m\u001b[0m\n\u001b[0m\u001b[1;32m     96\u001b[0m       \u001b[0;32mif\u001b[0m \u001b[0mchoice\u001b[0m \u001b[0;34m==\u001b[0m \u001b[0;34m'y'\u001b[0m\u001b[0;34m:\u001b[0m\u001b[0;34m\u001b[0m\u001b[0;34m\u001b[0m\u001b[0m\n\u001b[1;32m     97\u001b[0m         \u001b[0mself\u001b[0m\u001b[0;34m.\u001b[0m\u001b[0mall_item\u001b[0m\u001b[0;34m.\u001b[0m\u001b[0mclear\u001b[0m\u001b[0;34m(\u001b[0m\u001b[0;34m)\u001b[0m\u001b[0;34m\u001b[0m\u001b[0;34m\u001b[0m\u001b[0m\n",
            "\u001b[0;31mAttributeError\u001b[0m: 'str' object has no attribute 'lowercase'"
          ]
        }
      ]
    }
  ]
}